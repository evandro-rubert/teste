{
 "cells": [
  {
   "cell_type": "code",
   "execution_count": 1,
   "metadata": {},
   "outputs": [],
   "source": [
    "import tabula\n",
    "import pandas as pd\n",
    "import zipfile"
   ]
  },
  {
   "cell_type": "code",
   "execution_count": null,
   "metadata": {},
   "outputs": [],
   "source": [
    "# função para extrair os dados da tabela do PDF\n",
    "def extrair_dados(pdf):\n",
    "    tabela = tabula.read_pdf(pdf, pages='all', multiple_tables=False)\n",
    "    print(f\"Dados extraídos do PDF: {pdf}\")\n",
    "    return tabela\n",
    "\n",
    "dados = extrair_dados('C:/Users/evandro/Documents/projetos/data/Anexo_I_Rol_2021RN_465.2021_RN592.pdf')[0]\n",
    "dados.rename(columns={'OD': 'Seg. Odontologica', 'AMB': 'Seg. Ambulatorial'}, inplace=True)\n",
    "dados.to_csv('C:/Users/evandro/Documents/projetos/data/tabela_estruturada.csv', index=False)\n",
    "\n",
    "with zipfile.ZipFile('Teste_evandro_rubert', 'w') as zipf:\n",
    "    zipf.write('C:/Users/evandro/Documents/projetos/data/tabela_estruturada.csv')"
   ]
  }
 ],
 "metadata": {
  "kernelspec": {
   "display_name": "Python 3",
   "language": "python",
   "name": "python3"
  },
  "language_info": {
   "codemirror_mode": {
    "name": "ipython",
    "version": 3
   },
   "file_extension": ".py",
   "mimetype": "text/x-python",
   "name": "python",
   "nbconvert_exporter": "python",
   "pygments_lexer": "ipython3",
   "version": "3.12.1"
  }
 },
 "nbformat": 4,
 "nbformat_minor": 2
}
