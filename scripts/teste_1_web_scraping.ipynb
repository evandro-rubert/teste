{
 "cells": [
  {
   "cell_type": "code",
   "execution_count": 2,
   "metadata": {},
   "outputs": [],
   "source": [
    "import requests\n",
    "from bs4 import BeautifulSoup\n",
    "from zipfile import ZipFile"
   ]
  },
  {
   "cell_type": "code",
   "execution_count": 6,
   "metadata": {},
   "outputs": [],
   "source": [
    "# URL do site da ANS\n",
    "url = \"https://www.gov.br/ans/pt-br/acesso-a-informacao/participacao-da-sociedade/atualizacao-do-rol-de-procedimentos\"\n",
    "\n",
    "# funcao para baixar os anexos em pdf\n",
    "def download_pdfs(url, output_dir):\n",
    "    response = requests.get(url)\n",
    "    soup = BeautifulSoup(response.content, 'html.parser')\n",
    "    links = soup.find_all('a', href=True)\n",
    "    pdf_links = [link['href'] for link in links if link['href'].endswith('.pdf')]\n",
    "\n",
    "    if not os.path.exists(output_dir):\n",
    "        os.makedirs(output_dir)\n",
    "\n",
    "    for pdf_link in pdf_links:\n",
    "        pdf_name = pdf_link.split('/')[-1]\n",
    "        pdf_path = os.path.join(output_dir, pdf_name)\n",
    "        with open(pdf_path, 'wb') as f:\n",
    "            f.write(requests.get(pdf_link).content)\n",
    "        print(f\"Baixado: {pdf_name}\")"
   ]
  },
  {
   "cell_type": "code",
   "execution_count": 10,
   "metadata": {},
   "outputs": [],
   "source": [
    "import os\n",
    "from zipfile import ZipFile\n",
    "\n",
    "# funcao para compactar os arquivos em .zip\n",
    "def compactar_zip(arquivo_1, arquivo_2, nome_zip, output_dir=None):\n",
    "\n",
    "    if output_dir is None:\n",
    "        output_dir = os.getcwd()\n",
    "    else:\n",
    "        os.makedirs(output_dir, exist_ok=True)\n",
    "    zip_path = os.path.join(output_dir, nome_zip)\n",
    "\n",
    "    with ZipFile(zip_path, 'w') as zip:\n",
    "        zip.write(arquivo_1)\n",
    "        zip.write(arquivo_2)\n",
    "\n",
    "    print(f\"Arquivos compactados em {zip_path}\")"
   ]
  },
  {
   "cell_type": "code",
   "execution_count": 8,
   "metadata": {},
   "outputs": [
    {
     "name": "stdout",
     "output_type": "stream",
     "text": [
      "Baixado: organograma-geral-20220420.pdf\n",
      "Baixado: Anexo_I_Rol_2021RN_465.2021_RN592.pdf\n",
      "Baixado: Anexo_II_DUT_2021_RN_465.2021_RN596.pdf\n",
      "Baixado: nota13_geas_ggras_dipro_17012013.pdf\n",
      "Baixado: organograma-geral-20220420.pdf\n"
     ]
    }
   ],
   "source": [
    "download_pdfs(url, 'C:/Users/evandro/Documents/projetos/data')"
   ]
  },
  {
   "cell_type": "code",
   "execution_count": 11,
   "metadata": {},
   "outputs": [
    {
     "name": "stdout",
     "output_type": "stream",
     "text": [
      "Arquivos compactados em C:/Users/evandro/Documents/projetos/data\\anexos_tarefa_1\n"
     ]
    }
   ],
   "source": [
    "compactar_zip('C:/Users/evandro/Documents/projetos/data/Anexo_I_Rol_2021RN_465.2021_RN592.pdf', \n",
    "              'C:/Users/evandro/Documents/projetos/data/Anexo_II_DUT_2021_RN_465.2021_RN596.pdf', \n",
    "              'anexos_tarefa_1',\n",
    "              'C:/Users/evandro/Documents/projetos/data')"
   ]
  }
 ],
 "metadata": {
  "kernelspec": {
   "display_name": "Python 3",
   "language": "python",
   "name": "python3"
  },
  "language_info": {
   "codemirror_mode": {
    "name": "ipython",
    "version": 3
   },
   "file_extension": ".py",
   "mimetype": "text/x-python",
   "name": "python",
   "nbconvert_exporter": "python",
   "pygments_lexer": "ipython3",
   "version": "3.12.1"
  }
 },
 "nbformat": 4,
 "nbformat_minor": 2
}
